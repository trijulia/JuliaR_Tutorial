{
 "cells": [
  {
   "cell_type": "code",
   "execution_count": 1,
   "metadata": {
    "collapsed": false,
    "scrolled": false
   },
   "outputs": [],
   "source": [
    "using RCall, RDatasets, RData, DataFrames"
   ]
  },
  {
   "cell_type": "code",
   "execution_count": 2,
   "metadata": {
    "collapsed": true
   },
   "outputs": [
    {
     "data": {
      "text/plain": [
       "v\"0.5.0\""
      ]
     },
     "execution_count": 2,
     "metadata": {},
     "output_type": "execute_result"
    }
   ],
   "source": [
    "VERSION"
   ]
  },
  {
   "cell_type": "code",
   "execution_count": null,
   "metadata": {
    "collapsed": true
   },
   "outputs": [],
   "source": [
    "# Uncomment & run, if the R installation has been recently updated\n",
    "# Base.compilecache(\"RCall\")"
   ]
  },
  {
   "cell_type": "code",
   "execution_count": null,
   "metadata": {
    "collapsed": true
   },
   "outputs": [],
   "source": [
    "# Uncomment & run, to set environment variables in Windows\n",
    "# ENV[\"R_HOME\"] = \"C://Program Files/R/R-3.3.0/\"\n",
    "# export LD_LIBRARY_PATH=\"`R RHOME`/lib\""
   ]
  },
  {
   "cell_type": "markdown",
   "metadata": {},
   "source": [
    "## 1 RDatasets - Use the datasets from R packages with Julia"
   ]
  },
  {
   "cell_type": "code",
   "execution_count": 3,
   "metadata": {
    "collapsed": true
   },
   "outputs": [
    {
     "data": {
      "text/html": [
       "<table class=\"data-frame\"><tr><th></th><th>Package</th><th>Dataset</th><th>Title</th><th>Rows</th><th>Columns</th></tr><tr><th>1</th><td>ggplot2</td><td>diamonds</td><td>Prices of 50,000 round cut diamonds</td><td>53940</td><td>10</td></tr><tr><th>2</th><td>ggplot2</td><td>economics</td><td>US economic time series.</td><td>478</td><td>6</td></tr><tr><th>3</th><td>ggplot2</td><td>midwest</td><td>Midwest demographics.</td><td>437</td><td>28</td></tr><tr><th>4</th><td>ggplot2</td><td>movies</td><td>Movie information and user ratings from IMDB.com.</td><td>58788</td><td>24</td></tr><tr><th>5</th><td>ggplot2</td><td>mpg</td><td>Fuel economy data from 1999 and 2008 for 38 popular models of car</td><td>234</td><td>11</td></tr><tr><th>6</th><td>ggplot2</td><td>msleep</td><td>An updated and expanded version of the mammals sleep dataset.</td><td>83</td><td>11</td></tr><tr><th>7</th><td>ggplot2</td><td>presidential</td><td>Terms of 10 presidents from Eisenhower to Bush W.</td><td>10</td><td>4</td></tr><tr><th>8</th><td>ggplot2</td><td>seals</td><td>Vector field of seal movements.</td><td>1155</td><td>4</td></tr></table>"
      ],
      "text/plain": [
       "8×5 DataFrames.DataFrame\n",
       "│ Row │ Package   │ Dataset        │\n",
       "├─────┼───────────┼────────────────┤\n",
       "│ 1   │ \"ggplot2\" │ \"diamonds\"     │\n",
       "│ 2   │ \"ggplot2\" │ \"economics\"    │\n",
       "│ 3   │ \"ggplot2\" │ \"midwest\"      │\n",
       "│ 4   │ \"ggplot2\" │ \"movies\"       │\n",
       "│ 5   │ \"ggplot2\" │ \"mpg\"          │\n",
       "│ 6   │ \"ggplot2\" │ \"msleep\"       │\n",
       "│ 7   │ \"ggplot2\" │ \"presidential\" │\n",
       "│ 8   │ \"ggplot2\" │ \"seals\"        │\n",
       "\n",
       "│ Row │ Title                                                               │\n",
       "├─────┼─────────────────────────────────────────────────────────────────────┤\n",
       "│ 1   │ \"Prices of 50,000 round cut diamonds\"                               │\n",
       "│ 2   │ \"US economic time series.\"                                          │\n",
       "│ 3   │ \"Midwest demographics.\"                                             │\n",
       "│ 4   │ \"Movie information and user ratings from IMDB.com.\"                 │\n",
       "│ 5   │ \"Fuel economy data from 1999 and 2008 for 38 popular models of car\" │\n",
       "│ 6   │ \"An updated and expanded version of the mammals sleep dataset.\"     │\n",
       "│ 7   │ \"Terms of 10 presidents from Eisenhower to Bush W.\"                 │\n",
       "│ 8   │ \"Vector field of seal movements.\"                                   │\n",
       "\n",
       "│ Row │ Rows  │ Columns │\n",
       "├─────┼───────┼─────────┤\n",
       "│ 1   │ 53940 │ 10      │\n",
       "│ 2   │ 478   │ 6       │\n",
       "│ 3   │ 437   │ 28      │\n",
       "│ 4   │ 58788 │ 24      │\n",
       "│ 5   │ 234   │ 11      │\n",
       "│ 6   │ 83    │ 11      │\n",
       "│ 7   │ 10    │ 4       │\n",
       "│ 8   │ 1155  │ 4       │"
      ]
     },
     "execution_count": 3,
     "metadata": {},
     "output_type": "execute_result"
    }
   ],
   "source": [
    "using RDatasets, DataFrames\n",
    "RDatasets.datasets(\"ggplot2\")"
   ]
  },
  {
   "cell_type": "code",
   "execution_count": 4,
   "metadata": {
    "collapsed": true
   },
   "outputs": [
    {
     "data": {
      "text/html": [
       "<table class=\"data-frame\"><tr><th></th><th>Date</th><th>PCE</th><th>Pop</th><th>PSavert</th><th>UEmpMed</th><th>Unemploy</th></tr><tr><th>1</th><td>1967-06-30</td><td>507.8</td><td>198712</td><td>9.8</td><td>4.5</td><td>2944</td></tr><tr><th>2</th><td>1967-07-31</td><td>510.9</td><td>198911</td><td>9.8</td><td>4.7</td><td>2945</td></tr><tr><th>3</th><td>1967-08-31</td><td>516.7</td><td>199113</td><td>9.0</td><td>4.6</td><td>2958</td></tr><tr><th>4</th><td>1967-09-30</td><td>513.3</td><td>199311</td><td>9.8</td><td>4.9</td><td>3143</td></tr><tr><th>5</th><td>1967-10-31</td><td>518.5</td><td>199498</td><td>9.7</td><td>4.7</td><td>3066</td></tr><tr><th>6</th><td>1967-11-30</td><td>526.2</td><td>199657</td><td>9.4</td><td>4.8</td><td>3018</td></tr><tr><th>7</th><td>1967-12-31</td><td>532.0</td><td>199808</td><td>9.0</td><td>5.1</td><td>2878</td></tr><tr><th>8</th><td>1968-01-31</td><td>534.7</td><td>199920</td><td>9.5</td><td>4.5</td><td>3001</td></tr><tr><th>9</th><td>1968-02-29</td><td>545.4</td><td>200056</td><td>8.9</td><td>4.1</td><td>2877</td></tr><tr><th>10</th><td>1968-03-31</td><td>545.1</td><td>200208</td><td>9.6</td><td>4.6</td><td>2709</td></tr><tr><th>11</th><td>1968-04-30</td><td>550.9</td><td>200361</td><td>9.3</td><td>4.4</td><td>2740</td></tr><tr><th>12</th><td>1968-05-31</td><td>557.4</td><td>200536</td><td>8.9</td><td>4.4</td><td>2938</td></tr><tr><th>13</th><td>1968-06-30</td><td>564.4</td><td>200706</td><td>7.8</td><td>4.5</td><td>2883</td></tr><tr><th>14</th><td>1968-07-31</td><td>568.2</td><td>200898</td><td>7.6</td><td>4.2</td><td>2768</td></tr><tr><th>15</th><td>1968-08-31</td><td>569.5</td><td>201095</td><td>7.6</td><td>4.6</td><td>2686</td></tr><tr><th>16</th><td>1968-09-30</td><td>572.9</td><td>201290</td><td>7.8</td><td>4.8</td><td>2689</td></tr><tr><th>17</th><td>1968-10-31</td><td>578.0</td><td>201466</td><td>7.6</td><td>4.4</td><td>2715</td></tr><tr><th>18</th><td>1968-11-30</td><td>577.9</td><td>201621</td><td>8.1</td><td>4.4</td><td>2685</td></tr><tr><th>19</th><td>1968-12-31</td><td>584.9</td><td>201760</td><td>7.1</td><td>4.4</td><td>2718</td></tr><tr><th>20</th><td>1969-01-31</td><td>590.2</td><td>201881</td><td>6.5</td><td>4.9</td><td>2692</td></tr><tr><th>21</th><td>1969-02-28</td><td>590.4</td><td>202023</td><td>7.0</td><td>4.0</td><td>2712</td></tr><tr><th>22</th><td>1969-03-31</td><td>595.4</td><td>202161</td><td>6.6</td><td>4.0</td><td>2758</td></tr><tr><th>23</th><td>1969-04-30</td><td>601.8</td><td>202331</td><td>7.0</td><td>4.2</td><td>2713</td></tr><tr><th>24</th><td>1969-05-31</td><td>602.4</td><td>202507</td><td>7.9</td><td>4.4</td><td>2816</td></tr><tr><th>25</th><td>1969-06-30</td><td>604.3</td><td>202677</td><td>8.7</td><td>4.4</td><td>2868</td></tr><tr><th>26</th><td>1969-07-31</td><td>611.5</td><td>202877</td><td>8.5</td><td>4.4</td><td>2856</td></tr><tr><th>27</th><td>1969-08-31</td><td>614.9</td><td>203090</td><td>8.5</td><td>4.7</td><td>3040</td></tr><tr><th>28</th><td>1969-09-30</td><td>620.2</td><td>203302</td><td>8.3</td><td>4.5</td><td>3049</td></tr><tr><th>29</th><td>1969-10-31</td><td>622.1</td><td>203500</td><td>8.5</td><td>4.8</td><td>2856</td></tr><tr><th>30</th><td>1969-11-30</td><td>624.4</td><td>203675</td><td>8.6</td><td>4.6</td><td>2884</td></tr><tr><th>&vellip;</th><td>&vellip;</td><td>&vellip;</td><td>&vellip;</td><td>&vellip;</td><td>&vellip;</td><td>&vellip;</td></tr></table>"
      ],
      "text/plain": [
       "478×6 DataFrames.DataFrame\n",
       "│ Row │ Date         │ PCE    │ Pop    │ PSavert │ UEmpMed │ Unemploy │\n",
       "├─────┼──────────────┼────────┼────────┼─────────┼─────────┼──────────┤\n",
       "│ 1   │ \"1967-06-30\" │ 507.8  │ 198712 │ 9.8     │ 4.5     │ 2944     │\n",
       "│ 2   │ \"1967-07-31\" │ 510.9  │ 198911 │ 9.8     │ 4.7     │ 2945     │\n",
       "│ 3   │ \"1967-08-31\" │ 516.7  │ 199113 │ 9.0     │ 4.6     │ 2958     │\n",
       "│ 4   │ \"1967-09-30\" │ 513.3  │ 199311 │ 9.8     │ 4.9     │ 3143     │\n",
       "│ 5   │ \"1967-10-31\" │ 518.5  │ 199498 │ 9.7     │ 4.7     │ 3066     │\n",
       "│ 6   │ \"1967-11-30\" │ 526.2  │ 199657 │ 9.4     │ 4.8     │ 3018     │\n",
       "│ 7   │ \"1967-12-31\" │ 532.0  │ 199808 │ 9.0     │ 5.1     │ 2878     │\n",
       "│ 8   │ \"1968-01-31\" │ 534.7  │ 199920 │ 9.5     │ 4.5     │ 3001     │\n",
       "│ 9   │ \"1968-02-29\" │ 545.4  │ 200056 │ 8.9     │ 4.1     │ 2877     │\n",
       "│ 10  │ \"1968-03-31\" │ 545.1  │ 200208 │ 9.6     │ 4.6     │ 2709     │\n",
       "│ 11  │ \"1968-04-30\" │ 550.9  │ 200361 │ 9.3     │ 4.4     │ 2740     │\n",
       "⋮\n",
       "│ 467 │ \"2006-04-30\" │ 9238.6 │ 299310 │ -1.6    │ 8.5     │ 7006     │\n",
       "│ 468 │ \"2006-05-31\" │ 9270.5 │ 299548 │ -1.5    │ 7.6     │ 6984     │\n",
       "│ 469 │ \"2006-06-30\" │ 9338.9 │ 299801 │ -1.7    │ 8.2     │ 7228     │\n",
       "│ 470 │ \"2006-07-31\" │ 9352.7 │ 300065 │ -1.5    │ 8.4     │ 7116     │\n",
       "│ 471 │ \"2006-08-31\" │ 9348.5 │ 300326 │ -1.0    │ 8.1     │ 6912     │\n",
       "│ 472 │ \"2006-09-30\" │ 9376.0 │ 300592 │ -0.8    │ 8.0     │ 6715     │\n",
       "│ 473 │ \"2006-10-31\" │ 9410.8 │ 300836 │ -0.9    │ 8.2     │ 6826     │\n",
       "│ 474 │ \"2006-11-30\" │ 9478.5 │ 301070 │ -1.1    │ 7.3     │ 6849     │\n",
       "│ 475 │ \"2006-12-31\" │ 9540.3 │ 301296 │ -0.9    │ 8.1     │ 7017     │\n",
       "│ 476 │ \"2007-01-31\" │ 9610.6 │ 301481 │ -1.0    │ 8.1     │ 6865     │\n",
       "│ 477 │ \"2007-02-28\" │ 9653.0 │ 301684 │ -0.7    │ 8.5     │ 6724     │\n",
       "│ 478 │ \"2007-03-31\" │ 9705.0 │ 301913 │ -1.3    │ 8.7     │ 6801     │"
      ]
     },
     "execution_count": 4,
     "metadata": {},
     "output_type": "execute_result"
    }
   ],
   "source": [
    "# diamDF and econDF are Julia DataFrames\n",
    "diamDF = dataset(\"ggplot2\", \"diamonds\")\n",
    "econDF = dataset(\"ggplot2\", \"economics\")"
   ]
  },
  {
   "cell_type": "code",
   "execution_count": 8,
   "metadata": {
    "collapsed": true
   },
   "outputs": [
    {
     "data": {
      "text/plain": [
       "DataFrames.DataFrame"
      ]
     },
     "execution_count": 8,
     "metadata": {},
     "output_type": "execute_result"
    }
   ],
   "source": [
    "typeof(econDF)"
   ]
  },
  {
   "cell_type": "code",
   "execution_count": 3,
   "metadata": {
    "collapsed": true
   },
   "outputs": [
    {
     "data": {
      "text/html": [
       "<table class=\"data-frame\"><tr><th></th><th>Carat</th><th>Cut</th><th>Color</th><th>Clarity</th><th>Depth</th><th>Table</th><th>Price</th><th>X</th><th>Y</th><th>Z</th></tr><tr><th>1</th><td>0.23</td><td>Ideal</td><td>E</td><td>SI2</td><td>61.5</td><td>55.0</td><td>326</td><td>3.95</td><td>3.98</td><td>2.43</td></tr><tr><th>2</th><td>0.21</td><td>Premium</td><td>E</td><td>SI1</td><td>59.8</td><td>61.0</td><td>326</td><td>3.89</td><td>3.84</td><td>2.31</td></tr><tr><th>3</th><td>0.23</td><td>Good</td><td>E</td><td>VS1</td><td>56.9</td><td>65.0</td><td>327</td><td>4.05</td><td>4.07</td><td>2.31</td></tr><tr><th>4</th><td>0.29</td><td>Premium</td><td>I</td><td>VS2</td><td>62.4</td><td>58.0</td><td>334</td><td>4.2</td><td>4.23</td><td>2.63</td></tr><tr><th>5</th><td>0.31</td><td>Good</td><td>J</td><td>SI2</td><td>63.3</td><td>58.0</td><td>335</td><td>4.34</td><td>4.35</td><td>2.75</td></tr><tr><th>6</th><td>0.24</td><td>Very Good</td><td>J</td><td>VVS2</td><td>62.8</td><td>57.0</td><td>336</td><td>3.94</td><td>3.96</td><td>2.48</td></tr></table>"
      ],
      "text/plain": [
       "6×10 DataFrames.DataFrame\n",
       "│ Row │ Carat │ Cut         │ Color │ Clarity │ Depth │ Table │ Price │ X    │\n",
       "├─────┼───────┼─────────────┼───────┼─────────┼───────┼───────┼───────┼──────┤\n",
       "│ 1   │ 0.23  │ \"Ideal\"     │ \"E\"   │ \"SI2\"   │ 61.5  │ 55.0  │ 326   │ 3.95 │\n",
       "│ 2   │ 0.21  │ \"Premium\"   │ \"E\"   │ \"SI1\"   │ 59.8  │ 61.0  │ 326   │ 3.89 │\n",
       "│ 3   │ 0.23  │ \"Good\"      │ \"E\"   │ \"VS1\"   │ 56.9  │ 65.0  │ 327   │ 4.05 │\n",
       "│ 4   │ 0.29  │ \"Premium\"   │ \"I\"   │ \"VS2\"   │ 62.4  │ 58.0  │ 334   │ 4.2  │\n",
       "│ 5   │ 0.31  │ \"Good\"      │ \"J\"   │ \"SI2\"   │ 63.3  │ 58.0  │ 335   │ 4.34 │\n",
       "│ 6   │ 0.24  │ \"Very Good\" │ \"J\"   │ \"VVS2\"  │ 62.8  │ 57.0  │ 336   │ 3.94 │\n",
       "\n",
       "│ Row │ Y    │ Z    │\n",
       "├─────┼──────┼──────┤\n",
       "│ 1   │ 3.98 │ 2.43 │\n",
       "│ 2   │ 3.84 │ 2.31 │\n",
       "│ 3   │ 4.07 │ 2.31 │\n",
       "│ 4   │ 4.23 │ 2.63 │\n",
       "│ 5   │ 4.35 │ 2.75 │\n",
       "│ 6   │ 3.96 │ 2.48 │"
      ]
     },
     "execution_count": 3,
     "metadata": {},
     "output_type": "execute_result"
    }
   ],
   "source": [
    "head(diamDF)"
   ]
  },
  {
   "cell_type": "markdown",
   "metadata": {},
   "source": [
    "## 2 RCall"
   ]
  },
  {
   "cell_type": "markdown",
   "metadata": {},
   "source": [
    "### 2.1 `R\"...\"` (single line) `R\"\"\"...\"\"\"` (multi-line) R String Macros - Run R scripts from Julia"
   ]
  },
  {
   "cell_type": "code",
   "execution_count": 5,
   "metadata": {
    "collapsed": true
   },
   "outputs": [
    {
     "data": {
      "image/png": "[encoded data removed]"
     },
     "metadata": {},
     "output_type": "display_data"
    },
    {
     "data": {
      "text/plain": [
       "RCall.RObject{RCall.VecSxp}\n"
      ]
     },
     "execution_count": 5,
     "metadata": {},
     "output_type": "execute_result"
    }
   ],
   "source": [
    "using RCall\n",
    "\n",
    "R\"\"\"\n",
    "library(\"ggplot2\")\n",
    "qplot(clarity, data=diamonds, fill=cut, geom=\"bar\")\n",
    "\"\"\""
   ]
  },
  {
   "cell_type": "code",
   "execution_count": 6,
   "metadata": {
    "collapsed": true
   },
   "outputs": [
    {
     "data": {
      "image/png": "[encoded data removed]"
     },
     "metadata": {},
     "output_type": "display_data"
    },
    {
     "data": {
      "text/plain": [
       "RCall.RObject{RCall.VecSxp}\n",
       "$value\n",
       "\n",
       "$visible\n",
       "[1] TRUE\n",
       "\n"
      ]
     },
     "execution_count": 6,
     "metadata": {},
     "output_type": "execute_result"
    }
   ],
   "source": [
    "R\"source('polarPlot.R')\""
   ]
  },
  {
   "cell_type": "markdown",
   "metadata": {},
   "source": [
    "### 2.2 Passing variables from Julia to R"
   ]
  },
  {
   "cell_type": "code",
   "execution_count": 10,
   "metadata": {
    "collapsed": true
   },
   "outputs": [
    {
     "data": {
      "text/plain": [
       "RCall.RObject{RCall.RealSxp}\n",
       "[1] 2.035398\n"
      ]
     },
     "execution_count": 10,
     "metadata": {},
     "output_type": "execute_result"
    }
   ],
   "source": [
    "using PyCall\n",
    "@pyimport math\n",
    "x = math.pi\n",
    "R\"mean(c(1,2,3,$(x + cos(x))))\""
   ]
  },
  {
   "cell_type": "markdown",
   "metadata": {},
   "source": [
    "### 2.3 `@rput j_obj` (Julia -> R), `@rget r_obj` (R -> Julia) Passing objects"
   ]
  },
  {
   "cell_type": "code",
   "execution_count": 19,
   "metadata": {
    "collapsed": true
   },
   "outputs": [
    {
     "data": {
      "text/html": [
       "<table class=\"data-frame\"><tr><th></th><th>Date</th><th>PCE</th><th>Pop</th><th>PSavert</th><th>UEmpMed</th><th>Unemploy</th></tr><tr><th>1</th><td>1967-06-30</td><td>507.8</td><td>198712</td><td>9.8</td><td>4.5</td><td>2944</td></tr><tr><th>2</th><td>1967-07-31</td><td>510.9</td><td>198911</td><td>9.8</td><td>4.7</td><td>2945</td></tr><tr><th>3</th><td>1967-08-31</td><td>516.7</td><td>199113</td><td>9.0</td><td>4.6</td><td>2958</td></tr><tr><th>4</th><td>1967-09-30</td><td>513.3</td><td>199311</td><td>9.8</td><td>4.9</td><td>3143</td></tr><tr><th>5</th><td>1967-10-31</td><td>518.5</td><td>199498</td><td>9.7</td><td>4.7</td><td>3066</td></tr><tr><th>6</th><td>1967-11-30</td><td>526.2</td><td>199657</td><td>9.4</td><td>4.8</td><td>3018</td></tr></table>"
      ],
      "text/plain": [
       "6×6 DataFrames.DataFrame\n",
       "│ Row │ Date         │ PCE   │ Pop    │ PSavert │ UEmpMed │ Unemploy │\n",
       "├─────┼──────────────┼───────┼────────┼─────────┼─────────┼──────────┤\n",
       "│ 1   │ \"1967-06-30\" │ 507.8 │ 198712 │ 9.8     │ 4.5     │ 2944     │\n",
       "│ 2   │ \"1967-07-31\" │ 510.9 │ 198911 │ 9.8     │ 4.7     │ 2945     │\n",
       "│ 3   │ \"1967-08-31\" │ 516.7 │ 199113 │ 9.0     │ 4.6     │ 2958     │\n",
       "│ 4   │ \"1967-09-30\" │ 513.3 │ 199311 │ 9.8     │ 4.9     │ 3143     │\n",
       "│ 5   │ \"1967-10-31\" │ 518.5 │ 199498 │ 9.7     │ 4.7     │ 3066     │\n",
       "│ 6   │ \"1967-11-30\" │ 526.2 │ 199657 │ 9.4     │ 4.8     │ 3018     │"
      ]
     },
     "execution_count": 19,
     "metadata": {},
     "output_type": "execute_result"
    }
   ],
   "source": [
    "head(econDF)"
   ]
  },
  {
   "cell_type": "code",
   "execution_count": 5,
   "metadata": {
    "collapsed": true
   },
   "outputs": [
    {
     "data": {
      "text/html": [
       "<table class=\"data-frame\"><tr><th></th><th>Date</th><th>PCE</th><th>Pop</th><th>PSavert</th><th>UEmpMed</th><th>Unemploy</th></tr><tr><th>1</th><td>1967-06-30</td><td>507.8</td><td>198712</td><td>9.8</td><td>4.5</td><td>2944</td></tr><tr><th>2</th><td>1967-07-31</td><td>510.9</td><td>198911</td><td>9.8</td><td>4.7</td><td>2945</td></tr><tr><th>3</th><td>1967-08-31</td><td>516.7</td><td>199113</td><td>9.0</td><td>4.6</td><td>2958</td></tr><tr><th>4</th><td>1967-09-30</td><td>513.3</td><td>199311</td><td>9.8</td><td>4.9</td><td>3143</td></tr><tr><th>5</th><td>1967-10-31</td><td>518.5</td><td>199498</td><td>9.7</td><td>4.7</td><td>3066</td></tr><tr><th>6</th><td>1967-11-30</td><td>526.2</td><td>199657</td><td>9.4</td><td>4.8</td><td>3018</td></tr><tr><th>7</th><td>1967-12-31</td><td>532.0</td><td>199808</td><td>9.0</td><td>5.1</td><td>2878</td></tr><tr><th>8</th><td>1968-01-31</td><td>534.7</td><td>199920</td><td>9.5</td><td>4.5</td><td>3001</td></tr><tr><th>9</th><td>1968-02-29</td><td>545.4</td><td>200056</td><td>8.9</td><td>4.1</td><td>2877</td></tr><tr><th>10</th><td>1968-03-31</td><td>545.1</td><td>200208</td><td>9.6</td><td>4.6</td><td>2709</td></tr><tr><th>11</th><td>1968-04-30</td><td>550.9</td><td>200361</td><td>9.3</td><td>4.4</td><td>2740</td></tr><tr><th>12</th><td>1968-05-31</td><td>557.4</td><td>200536</td><td>8.9</td><td>4.4</td><td>2938</td></tr><tr><th>13</th><td>1968-06-30</td><td>564.4</td><td>200706</td><td>7.8</td><td>4.5</td><td>2883</td></tr><tr><th>14</th><td>1968-07-31</td><td>568.2</td><td>200898</td><td>7.6</td><td>4.2</td><td>2768</td></tr><tr><th>15</th><td>1968-08-31</td><td>569.5</td><td>201095</td><td>7.6</td><td>4.6</td><td>2686</td></tr><tr><th>16</th><td>1968-09-30</td><td>572.9</td><td>201290</td><td>7.8</td><td>4.8</td><td>2689</td></tr><tr><th>17</th><td>1968-10-31</td><td>578.0</td><td>201466</td><td>7.6</td><td>4.4</td><td>2715</td></tr><tr><th>18</th><td>1968-11-30</td><td>577.9</td><td>201621</td><td>8.1</td><td>4.4</td><td>2685</td></tr><tr><th>19</th><td>1968-12-31</td><td>584.9</td><td>201760</td><td>7.1</td><td>4.4</td><td>2718</td></tr><tr><th>20</th><td>1969-01-31</td><td>590.2</td><td>201881</td><td>6.5</td><td>4.9</td><td>2692</td></tr><tr><th>21</th><td>1969-02-28</td><td>590.4</td><td>202023</td><td>7.0</td><td>4.0</td><td>2712</td></tr><tr><th>22</th><td>1969-03-31</td><td>595.4</td><td>202161</td><td>6.6</td><td>4.0</td><td>2758</td></tr><tr><th>23</th><td>1969-04-30</td><td>601.8</td><td>202331</td><td>7.0</td><td>4.2</td><td>2713</td></tr><tr><th>24</th><td>1969-05-31</td><td>602.4</td><td>202507</td><td>7.9</td><td>4.4</td><td>2816</td></tr><tr><th>25</th><td>1969-06-30</td><td>604.3</td><td>202677</td><td>8.7</td><td>4.4</td><td>2868</td></tr><tr><th>26</th><td>1969-07-31</td><td>611.5</td><td>202877</td><td>8.5</td><td>4.4</td><td>2856</td></tr><tr><th>27</th><td>1969-08-31</td><td>614.9</td><td>203090</td><td>8.5</td><td>4.7</td><td>3040</td></tr><tr><th>28</th><td>1969-09-30</td><td>620.2</td><td>203302</td><td>8.3</td><td>4.5</td><td>3049</td></tr><tr><th>29</th><td>1969-10-31</td><td>622.1</td><td>203500</td><td>8.5</td><td>4.8</td><td>2856</td></tr><tr><th>30</th><td>1969-11-30</td><td>624.4</td><td>203675</td><td>8.6</td><td>4.6</td><td>2884</td></tr><tr><th>&vellip;</th><td>&vellip;</td><td>&vellip;</td><td>&vellip;</td><td>&vellip;</td><td>&vellip;</td><td>&vellip;</td></tr></table>"
      ],
      "text/plain": [
       "478×6 DataFrames.DataFrame\n",
       "│ Row │ Date         │ PCE    │ Pop    │ PSavert │ UEmpMed │ Unemploy │\n",
       "├─────┼──────────────┼────────┼────────┼─────────┼─────────┼──────────┤\n",
       "│ 1   │ \"1967-06-30\" │ 507.8  │ 198712 │ 9.8     │ 4.5     │ 2944     │\n",
       "│ 2   │ \"1967-07-31\" │ 510.9  │ 198911 │ 9.8     │ 4.7     │ 2945     │\n",
       "│ 3   │ \"1967-08-31\" │ 516.7  │ 199113 │ 9.0     │ 4.6     │ 2958     │\n",
       "│ 4   │ \"1967-09-30\" │ 513.3  │ 199311 │ 9.8     │ 4.9     │ 3143     │\n",
       "│ 5   │ \"1967-10-31\" │ 518.5  │ 199498 │ 9.7     │ 4.7     │ 3066     │\n",
       "│ 6   │ \"1967-11-30\" │ 526.2  │ 199657 │ 9.4     │ 4.8     │ 3018     │\n",
       "│ 7   │ \"1967-12-31\" │ 532.0  │ 199808 │ 9.0     │ 5.1     │ 2878     │\n",
       "│ 8   │ \"1968-01-31\" │ 534.7  │ 199920 │ 9.5     │ 4.5     │ 3001     │\n",
       "│ 9   │ \"1968-02-29\" │ 545.4  │ 200056 │ 8.9     │ 4.1     │ 2877     │\n",
       "│ 10  │ \"1968-03-31\" │ 545.1  │ 200208 │ 9.6     │ 4.6     │ 2709     │\n",
       "│ 11  │ \"1968-04-30\" │ 550.9  │ 200361 │ 9.3     │ 4.4     │ 2740     │\n",
       "⋮\n",
       "│ 467 │ \"2006-04-30\" │ 9238.6 │ 299310 │ -1.6    │ 8.5     │ 7006     │\n",
       "│ 468 │ \"2006-05-31\" │ 9270.5 │ 299548 │ -1.5    │ 7.6     │ 6984     │\n",
       "│ 469 │ \"2006-06-30\" │ 9338.9 │ 299801 │ -1.7    │ 8.2     │ 7228     │\n",
       "│ 470 │ \"2006-07-31\" │ 9352.7 │ 300065 │ -1.5    │ 8.4     │ 7116     │\n",
       "│ 471 │ \"2006-08-31\" │ 9348.5 │ 300326 │ -1.0    │ 8.1     │ 6912     │\n",
       "│ 472 │ \"2006-09-30\" │ 9376.0 │ 300592 │ -0.8    │ 8.0     │ 6715     │\n",
       "│ 473 │ \"2006-10-31\" │ 9410.8 │ 300836 │ -0.9    │ 8.2     │ 6826     │\n",
       "│ 474 │ \"2006-11-30\" │ 9478.5 │ 301070 │ -1.1    │ 7.3     │ 6849     │\n",
       "│ 475 │ \"2006-12-31\" │ 9540.3 │ 301296 │ -0.9    │ 8.1     │ 7017     │\n",
       "│ 476 │ \"2007-01-31\" │ 9610.6 │ 301481 │ -1.0    │ 8.1     │ 6865     │\n",
       "│ 477 │ \"2007-02-28\" │ 9653.0 │ 301684 │ -0.7    │ 8.5     │ 6724     │\n",
       "│ 478 │ \"2007-03-31\" │ 9705.0 │ 301913 │ -1.3    │ 8.7     │ 6801     │"
      ]
     },
     "execution_count": 5,
     "metadata": {},
     "output_type": "execute_result"
    }
   ],
   "source": [
    "# Put the Julia Dataframe into the R workspace as an R Dataframe\n",
    "@rput econDF"
   ]
  },
  {
   "cell_type": "code",
   "execution_count": 10,
   "metadata": {
    "collapsed": true
   },
   "outputs": [
    {
     "name": "stdout",
     "output_type": "stream",
     "text": [
      "'data.frame':\t478 obs. of  6 variables:\n",
      " $ Date    : chr  \"1967-06-30\" \"1967-07-31\" \"1967-08-31\" \"1967-09-30\" ...\n",
      " $ PCE     : num  508 511 517 513 518 ...\n",
      " $ Pop     : int  198712 198911 199113 199311 199498 199657 199808 199920 200056 200208 ...\n",
      " $ PSavert : num  9.8 9.8 9 9.8 9.7 9.4 9 9.5 8.9 9.6 ...\n",
      " $ UEmpMed : num  4.5 4.7 4.6 4.9 4.7 4.8 5.1 4.5 4.1 4.6 ...\n",
      " $ Unemploy: int  2944 2945 2958 3143 3066 3018 2878 3001 2877 2709 ...\n"
     ]
    },
    {
     "data": {
      "text/plain": [
       "RCall.RObject{RCall.NilSxp}\n",
       "NULL\n"
      ]
     },
     "execution_count": 10,
     "metadata": {},
     "output_type": "execute_result"
    }
   ],
   "source": [
    "R\"str(econDF)\""
   ]
  },
  {
   "cell_type": "code",
   "execution_count": 6,
   "metadata": {
    "collapsed": true
   },
   "outputs": [
    {
     "data": {
      "text/plain": [
       "RCall.RObject{RCall.VecSxp}\n",
       "\n",
       "Call:\n",
       "lm(formula = UEmpMed ~ PCE + Pop, data = econDF)\n",
       "\n",
       "Residuals:\n",
       "    Min      1Q  Median      3Q     Max \n",
       "-2.9840 -0.9197 -0.0658  0.7935  5.2986 \n",
       "\n",
       "Coefficients:\n",
       "              Estimate Std. Error t value Pr(>|t|)    \n",
       "(Intercept) -1.317e+01  2.698e+00  -4.880 1.45e-06 ***\n",
       "PCE         -7.413e-04  1.520e-04  -4.876 1.48e-06 ***\n",
       "Pop          9.336e-05  1.317e-05   7.088 4.94e-12 ***\n",
       "---\n",
       "Signif. codes:  0 '***' 0.001 '**' 0.01 '*' 0.05 '.' 0.1 ' ' 1\n",
       "\n",
       "Residual standard error: 1.34 on 475 degrees of freedom\n",
       "Multiple R-squared:  0.3351,\tAdjusted R-squared:  0.3323 \n",
       "F-statistic: 119.7 on 2 and 475 DF,  p-value: < 2.2e-16\n",
       "\n"
      ]
     },
     "execution_count": 6,
     "metadata": {},
     "output_type": "execute_result"
    }
   ],
   "source": [
    "R\"\"\"\n",
    "m <- lm(UEmpMed ~ PCE + Pop, data=econDF)\n",
    "summary(m)\n",
    "\"\"\""
   ]
  },
  {
   "cell_type": "code",
   "execution_count": 7,
   "metadata": {
    "collapsed": true
   },
   "outputs": [
    {
     "data": {
      "text/plain": [
       "RCall.RObject{RCall.StrSxp}\n",
       "[1] \"econDF\" \"m\"     \n"
      ]
     },
     "execution_count": 7,
     "metadata": {},
     "output_type": "execute_result"
    }
   ],
   "source": [
    "# Names of objects in the R workspace. VERY USEFUL\n",
    "R\"ls()\""
   ]
  },
  {
   "cell_type": "code",
   "execution_count": 9,
   "metadata": {
    "collapsed": true
   },
   "outputs": [
    {
     "data": {
      "text/plain": [
       "Dict{Symbol,Any} with 12 entries:\n",
       "  Symbol(\"fitted.values\") => [5.00934,5.02562,5.04018,5.06119,5.07479,5.08393,5…\n",
       "  :model                  => 478×3 DataFrames.DataFrame…\n",
       "  :xlevels                => Dict{Symbol,Any}()\n",
       "  :effects                => [-155.755,18.4352,9.50078,-0.0872919,-0.301376,-0.…\n",
       "  :assign                 => Int32[0,1,2]\n",
       "  :coefficients           => [-13.1654,-0.000741329,9.33573e-5]\n",
       "  :rank                   => 3\n",
       "  :residuals              => [-0.509345,-0.325625,-0.440183,-0.161189,-0.374791…\n",
       "  :qr                     => Dict{Symbol,Any}(Pair{Symbol,Any}(:pivot,Int32[1,2…\n",
       "  :terms                  => Ptr{RCall.LangSxp} @0x00000000283b95f8\n",
       "  Symbol(\"df.residual\")   => 475\n",
       "  :call                   => Ptr{RCall.LangSxp} @0x00000000276f4848"
      ]
     },
     "execution_count": 9,
     "metadata": {},
     "output_type": "execute_result"
    }
   ],
   "source": [
    "# Get the model m into Julia\n",
    "@rget m"
   ]
  },
  {
   "cell_type": "markdown",
   "metadata": {},
   "source": [
    "### 2.4 `reval(\"str\")` - Evaluates str as R code. Returns a Julia RObject to Julia\n",
    "RCall API Getting Started http://juliainterop.github.io/RCall.jl/stable/gettingstarted#RCall-API-1"
   ]
  },
  {
   "cell_type": "code",
   "execution_count": 17,
   "metadata": {
    "collapsed": true
   },
   "outputs": [
    {
     "data": {
      "text/plain": [
       "RCall.RObject{RCall.VecSxp}"
      ]
     },
     "execution_count": 17,
     "metadata": {},
     "output_type": "execute_result"
    }
   ],
   "source": [
    "jro_mtcars = reval(\"mtcars\");\n",
    "typeof(jro_mtcars)"
   ]
  },
  {
   "cell_type": "code",
   "execution_count": 18,
   "metadata": {
    "collapsed": true
   },
   "outputs": [
    {
     "data": {
      "text/plain": [
       "RCall.RObject{RCall.StrSxp}\n",
       "[1] \"econDF\" \"m\"      \"sr\"    \n"
      ]
     },
     "execution_count": 18,
     "metadata": {},
     "output_type": "execute_result"
    }
   ],
   "source": [
    "R\"ls()\""
   ]
  },
  {
   "cell_type": "code",
   "execution_count": 24,
   "metadata": {
    "collapsed": true
   },
   "outputs": [
    {
     "data": {
      "text/plain": [
       "RCall.RObject{RCall.VecSxp}\n",
       "                     mpg cyl  disp  hp drat    wt  qsec vs am gear carb\n",
       "Mazda RX4           21.0   6 160.0 110 3.90 2.620 16.46  0  1    4    4\n",
       "Mazda RX4 Wag       21.0   6 160.0 110 3.90 2.875 17.02  0  1    4    4\n",
       "Datsun 710          22.8   4 108.0  93 3.85 2.320 18.61  1  1    4    1\n",
       "Hornet 4 Drive      21.4   6 258.0 110 3.08 3.215 19.44  1  0    3    1\n",
       "Hornet Sportabout   18.7   8 360.0 175 3.15 3.440 17.02  0  0    3    2\n",
       "Valiant             18.1   6 225.0 105 2.76 3.460 20.22  1  0    3    1\n",
       "Duster 360          14.3   8 360.0 245 3.21 3.570 15.84  0  0    3    4\n",
       "Merc 240D           24.4   4 146.7  62 3.69 3.190 20.00  1  0    4    2\n",
       "Merc 230            22.8   4 140.8  95 3.92 3.150 22.90  1  0    4    2\n",
       "Merc 280            19.2   6 167.6 123 3.92 3.440 18.30  1  0    4    4\n",
       "Merc 280C           17.8   6 167.6 123 3.92 3.440 18.90  1  0    4    4\n",
       "Merc 450SE          16.4   8 275.8 180 3.07 4.070 17.40  0  0    3    3\n",
       "Merc 450SL          17.3   8 275.8 180 3.07 3.730 17.60  0  0    3    3\n",
       "Merc 450SLC         15.2   8 275.8 180 3.07 3.780 18.00  0  0    3    3\n",
       "Cadillac Fleetwood  10.4   8 472.0 205 2.93 5.250 17.98  0  0    3    4\n",
       "Lincoln Continental 10.4   8 460.0 215 3.00 5.424 17.82  0  0    3    4\n",
       "Chrysler Imperial   14.7   8 440.0 230 3.23 5.345 17.42  0  0    3    4\n",
       "Fiat 128            32.4   4  78.7  66 4.08 2.200 19.47  1  1    4    1\n",
       "Honda Civic         30.4   4  75.7  52 4.93 1.615 18.52  1  1    4    2\n",
       "Toyota Corolla      33.9   4  71.1  65 4.22 1.835 19.90  1  1    4    1\n",
       "Toyota Corona       21.5   4 120.1  97 3.70 2.465 20.01  1  0    3    1\n",
       "Dodge Challenger    15.5   8 318.0 150 2.76 3.520 16.87  0  0    3    2\n",
       "AMC Javelin         15.2   8 304.0 150 3.15 3.435 17.30  0  0    3    2\n",
       "Camaro Z28          13.3   8 350.0 245 3.73 3.840 15.41  0  0    3    4\n",
       "Pontiac Firebird    19.2   8 400.0 175 3.08 3.845 17.05  0  0    3    2\n",
       "Fiat X1-9           27.3   4  79.0  66 4.08 1.935 18.90  1  1    4    1\n",
       "Porsche 914-2       26.0   4 120.3  91 4.43 2.140 16.70  0  1    5    2\n",
       "Lotus Europa        30.4   4  95.1 113 3.77 1.513 16.90  1  1    5    2\n",
       "Ford Pantera L      15.8   8 351.0 264 4.22 3.170 14.50  0  1    5    4\n",
       "Ferrari Dino        19.7   6 145.0 175 3.62 2.770 15.50  0  1    5    6\n",
       "Maserati Bora       15.0   8 301.0 335 3.54 3.570 14.60  0  1    5    8\n",
       "Volvo 142E          21.4   4 121.0 109 4.11 2.780 18.60  1  1    4    2\n"
      ]
     },
     "execution_count": 24,
     "metadata": {},
     "output_type": "execute_result"
    }
   ],
   "source": [
    "R\"mtcDF <- mtcars\"  # Creates a dataframe in R, called mtcDF"
   ]
  },
  {
   "cell_type": "code",
   "execution_count": 22,
   "metadata": {
    "collapsed": true
   },
   "outputs": [
    {
     "data": {
      "text/plain": [
       "RCall.RObject{RCall.StrSxp}\n",
       "[1] \"econDF\" \"m\"      \"mtc\"    \"sr\"    \n"
      ]
     },
     "execution_count": 22,
     "metadata": {},
     "output_type": "execute_result"
    }
   ],
   "source": [
    "R\"ls()\""
   ]
  },
  {
   "cell_type": "code",
   "execution_count": 25,
   "metadata": {
    "collapsed": true
   },
   "outputs": [
    {
     "data": {
      "text/html": [
       "<table class=\"data-frame\"><tr><th></th><th>mpg</th><th>cyl</th><th>disp</th><th>hp</th><th>drat</th><th>wt</th><th>qsec</th><th>vs</th><th>am</th><th>gear</th><th>carb</th></tr><tr><th>1</th><td>21.0</td><td>6.0</td><td>160.0</td><td>110.0</td><td>3.9</td><td>2.62</td><td>16.46</td><td>0.0</td><td>1.0</td><td>4.0</td><td>4.0</td></tr><tr><th>2</th><td>21.0</td><td>6.0</td><td>160.0</td><td>110.0</td><td>3.9</td><td>2.875</td><td>17.02</td><td>0.0</td><td>1.0</td><td>4.0</td><td>4.0</td></tr><tr><th>3</th><td>22.8</td><td>4.0</td><td>108.0</td><td>93.0</td><td>3.85</td><td>2.32</td><td>18.61</td><td>1.0</td><td>1.0</td><td>4.0</td><td>1.0</td></tr><tr><th>4</th><td>21.4</td><td>6.0</td><td>258.0</td><td>110.0</td><td>3.08</td><td>3.215</td><td>19.44</td><td>1.0</td><td>0.0</td><td>3.0</td><td>1.0</td></tr><tr><th>5</th><td>18.7</td><td>8.0</td><td>360.0</td><td>175.0</td><td>3.15</td><td>3.44</td><td>17.02</td><td>0.0</td><td>0.0</td><td>3.0</td><td>2.0</td></tr><tr><th>6</th><td>18.1</td><td>6.0</td><td>225.0</td><td>105.0</td><td>2.76</td><td>3.46</td><td>20.22</td><td>1.0</td><td>0.0</td><td>3.0</td><td>1.0</td></tr><tr><th>7</th><td>14.3</td><td>8.0</td><td>360.0</td><td>245.0</td><td>3.21</td><td>3.57</td><td>15.84</td><td>0.0</td><td>0.0</td><td>3.0</td><td>4.0</td></tr><tr><th>8</th><td>24.4</td><td>4.0</td><td>146.7</td><td>62.0</td><td>3.69</td><td>3.19</td><td>20.0</td><td>1.0</td><td>0.0</td><td>4.0</td><td>2.0</td></tr><tr><th>9</th><td>22.8</td><td>4.0</td><td>140.8</td><td>95.0</td><td>3.92</td><td>3.15</td><td>22.9</td><td>1.0</td><td>0.0</td><td>4.0</td><td>2.0</td></tr><tr><th>10</th><td>19.2</td><td>6.0</td><td>167.6</td><td>123.0</td><td>3.92</td><td>3.44</td><td>18.3</td><td>1.0</td><td>0.0</td><td>4.0</td><td>4.0</td></tr><tr><th>11</th><td>17.8</td><td>6.0</td><td>167.6</td><td>123.0</td><td>3.92</td><td>3.44</td><td>18.9</td><td>1.0</td><td>0.0</td><td>4.0</td><td>4.0</td></tr><tr><th>12</th><td>16.4</td><td>8.0</td><td>275.8</td><td>180.0</td><td>3.07</td><td>4.07</td><td>17.4</td><td>0.0</td><td>0.0</td><td>3.0</td><td>3.0</td></tr><tr><th>13</th><td>17.3</td><td>8.0</td><td>275.8</td><td>180.0</td><td>3.07</td><td>3.73</td><td>17.6</td><td>0.0</td><td>0.0</td><td>3.0</td><td>3.0</td></tr><tr><th>14</th><td>15.2</td><td>8.0</td><td>275.8</td><td>180.0</td><td>3.07</td><td>3.78</td><td>18.0</td><td>0.0</td><td>0.0</td><td>3.0</td><td>3.0</td></tr><tr><th>15</th><td>10.4</td><td>8.0</td><td>472.0</td><td>205.0</td><td>2.93</td><td>5.25</td><td>17.98</td><td>0.0</td><td>0.0</td><td>3.0</td><td>4.0</td></tr><tr><th>16</th><td>10.4</td><td>8.0</td><td>460.0</td><td>215.0</td><td>3.0</td><td>5.424</td><td>17.82</td><td>0.0</td><td>0.0</td><td>3.0</td><td>4.0</td></tr><tr><th>17</th><td>14.7</td><td>8.0</td><td>440.0</td><td>230.0</td><td>3.23</td><td>5.345</td><td>17.42</td><td>0.0</td><td>0.0</td><td>3.0</td><td>4.0</td></tr><tr><th>18</th><td>32.4</td><td>4.0</td><td>78.7</td><td>66.0</td><td>4.08</td><td>2.2</td><td>19.47</td><td>1.0</td><td>1.0</td><td>4.0</td><td>1.0</td></tr><tr><th>19</th><td>30.4</td><td>4.0</td><td>75.7</td><td>52.0</td><td>4.93</td><td>1.615</td><td>18.52</td><td>1.0</td><td>1.0</td><td>4.0</td><td>2.0</td></tr><tr><th>20</th><td>33.9</td><td>4.0</td><td>71.1</td><td>65.0</td><td>4.22</td><td>1.835</td><td>19.9</td><td>1.0</td><td>1.0</td><td>4.0</td><td>1.0</td></tr><tr><th>21</th><td>21.5</td><td>4.0</td><td>120.1</td><td>97.0</td><td>3.7</td><td>2.465</td><td>20.01</td><td>1.0</td><td>0.0</td><td>3.0</td><td>1.0</td></tr><tr><th>22</th><td>15.5</td><td>8.0</td><td>318.0</td><td>150.0</td><td>2.76</td><td>3.52</td><td>16.87</td><td>0.0</td><td>0.0</td><td>3.0</td><td>2.0</td></tr><tr><th>23</th><td>15.2</td><td>8.0</td><td>304.0</td><td>150.0</td><td>3.15</td><td>3.435</td><td>17.3</td><td>0.0</td><td>0.0</td><td>3.0</td><td>2.0</td></tr><tr><th>24</th><td>13.3</td><td>8.0</td><td>350.0</td><td>245.0</td><td>3.73</td><td>3.84</td><td>15.41</td><td>0.0</td><td>0.0</td><td>3.0</td><td>4.0</td></tr><tr><th>25</th><td>19.2</td><td>8.0</td><td>400.0</td><td>175.0</td><td>3.08</td><td>3.845</td><td>17.05</td><td>0.0</td><td>0.0</td><td>3.0</td><td>2.0</td></tr><tr><th>26</th><td>27.3</td><td>4.0</td><td>79.0</td><td>66.0</td><td>4.08</td><td>1.935</td><td>18.9</td><td>1.0</td><td>1.0</td><td>4.0</td><td>1.0</td></tr><tr><th>27</th><td>26.0</td><td>4.0</td><td>120.3</td><td>91.0</td><td>4.43</td><td>2.14</td><td>16.7</td><td>0.0</td><td>1.0</td><td>5.0</td><td>2.0</td></tr><tr><th>28</th><td>30.4</td><td>4.0</td><td>95.1</td><td>113.0</td><td>3.77</td><td>1.513</td><td>16.9</td><td>1.0</td><td>1.0</td><td>5.0</td><td>2.0</td></tr><tr><th>29</th><td>15.8</td><td>8.0</td><td>351.0</td><td>264.0</td><td>4.22</td><td>3.17</td><td>14.5</td><td>0.0</td><td>1.0</td><td>5.0</td><td>4.0</td></tr><tr><th>30</th><td>19.7</td><td>6.0</td><td>145.0</td><td>175.0</td><td>3.62</td><td>2.77</td><td>15.5</td><td>0.0</td><td>1.0</td><td>5.0</td><td>6.0</td></tr><tr><th>&vellip;</th><td>&vellip;</td><td>&vellip;</td><td>&vellip;</td><td>&vellip;</td><td>&vellip;</td><td>&vellip;</td><td>&vellip;</td><td>&vellip;</td><td>&vellip;</td><td>&vellip;</td><td>&vellip;</td></tr></table>"
      ],
      "text/plain": [
       "32×11 DataFrames.DataFrame\n",
       "│ Row │ mpg  │ cyl │ disp  │ hp    │ drat │ wt    │ qsec  │ vs  │ am  │ gear │\n",
       "├─────┼──────┼─────┼───────┼───────┼──────┼───────┼───────┼─────┼─────┼──────┤\n",
       "│ 1   │ 21.0 │ 6.0 │ 160.0 │ 110.0 │ 3.9  │ 2.62  │ 16.46 │ 0.0 │ 1.0 │ 4.0  │\n",
       "│ 2   │ 21.0 │ 6.0 │ 160.0 │ 110.0 │ 3.9  │ 2.875 │ 17.02 │ 0.0 │ 1.0 │ 4.0  │\n",
       "│ 3   │ 22.8 │ 4.0 │ 108.0 │ 93.0  │ 3.85 │ 2.32  │ 18.61 │ 1.0 │ 1.0 │ 4.0  │\n",
       "│ 4   │ 21.4 │ 6.0 │ 258.0 │ 110.0 │ 3.08 │ 3.215 │ 19.44 │ 1.0 │ 0.0 │ 3.0  │\n",
       "│ 5   │ 18.7 │ 8.0 │ 360.0 │ 175.0 │ 3.15 │ 3.44  │ 17.02 │ 0.0 │ 0.0 │ 3.0  │\n",
       "│ 6   │ 18.1 │ 6.0 │ 225.0 │ 105.0 │ 2.76 │ 3.46  │ 20.22 │ 1.0 │ 0.0 │ 3.0  │\n",
       "│ 7   │ 14.3 │ 8.0 │ 360.0 │ 245.0 │ 3.21 │ 3.57  │ 15.84 │ 0.0 │ 0.0 │ 3.0  │\n",
       "│ 8   │ 24.4 │ 4.0 │ 146.7 │ 62.0  │ 3.69 │ 3.19  │ 20.0  │ 1.0 │ 0.0 │ 4.0  │\n",
       "│ 9   │ 22.8 │ 4.0 │ 140.8 │ 95.0  │ 3.92 │ 3.15  │ 22.9  │ 1.0 │ 0.0 │ 4.0  │\n",
       "│ 10  │ 19.2 │ 6.0 │ 167.6 │ 123.0 │ 3.92 │ 3.44  │ 18.3  │ 1.0 │ 0.0 │ 4.0  │\n",
       "│ 11  │ 17.8 │ 6.0 │ 167.6 │ 123.0 │ 3.92 │ 3.44  │ 18.9  │ 1.0 │ 0.0 │ 4.0  │\n",
       "⋮\n",
       "│ 21  │ 21.5 │ 4.0 │ 120.1 │ 97.0  │ 3.7  │ 2.465 │ 20.01 │ 1.0 │ 0.0 │ 3.0  │\n",
       "│ 22  │ 15.5 │ 8.0 │ 318.0 │ 150.0 │ 2.76 │ 3.52  │ 16.87 │ 0.0 │ 0.0 │ 3.0  │\n",
       "│ 23  │ 15.2 │ 8.0 │ 304.0 │ 150.0 │ 3.15 │ 3.435 │ 17.3  │ 0.0 │ 0.0 │ 3.0  │\n",
       "│ 24  │ 13.3 │ 8.0 │ 350.0 │ 245.0 │ 3.73 │ 3.84  │ 15.41 │ 0.0 │ 0.0 │ 3.0  │\n",
       "│ 25  │ 19.2 │ 8.0 │ 400.0 │ 175.0 │ 3.08 │ 3.845 │ 17.05 │ 0.0 │ 0.0 │ 3.0  │\n",
       "│ 26  │ 27.3 │ 4.0 │ 79.0  │ 66.0  │ 4.08 │ 1.935 │ 18.9  │ 1.0 │ 1.0 │ 4.0  │\n",
       "│ 27  │ 26.0 │ 4.0 │ 120.3 │ 91.0  │ 4.43 │ 2.14  │ 16.7  │ 0.0 │ 1.0 │ 5.0  │\n",
       "│ 28  │ 30.4 │ 4.0 │ 95.1  │ 113.0 │ 3.77 │ 1.513 │ 16.9  │ 1.0 │ 1.0 │ 5.0  │\n",
       "│ 29  │ 15.8 │ 8.0 │ 351.0 │ 264.0 │ 4.22 │ 3.17  │ 14.5  │ 0.0 │ 1.0 │ 5.0  │\n",
       "│ 30  │ 19.7 │ 6.0 │ 145.0 │ 175.0 │ 3.62 │ 2.77  │ 15.5  │ 0.0 │ 1.0 │ 5.0  │\n",
       "│ 31  │ 15.0 │ 8.0 │ 301.0 │ 335.0 │ 3.54 │ 3.57  │ 14.6  │ 0.0 │ 1.0 │ 5.0  │\n",
       "│ 32  │ 21.4 │ 4.0 │ 121.0 │ 109.0 │ 4.11 │ 2.78  │ 18.6  │ 1.0 │ 1.0 │ 4.0  │\n",
       "\n",
       "│ Row │ carb │\n",
       "├─────┼──────┤\n",
       "│ 1   │ 4.0  │\n",
       "│ 2   │ 4.0  │\n",
       "│ 3   │ 1.0  │\n",
       "│ 4   │ 1.0  │\n",
       "│ 5   │ 2.0  │\n",
       "│ 6   │ 1.0  │\n",
       "│ 7   │ 4.0  │\n",
       "│ 8   │ 2.0  │\n",
       "│ 9   │ 2.0  │\n",
       "│ 10  │ 4.0  │\n",
       "│ 11  │ 4.0  │\n",
       "⋮\n",
       "│ 21  │ 1.0  │\n",
       "│ 22  │ 2.0  │\n",
       "│ 23  │ 2.0  │\n",
       "│ 24  │ 4.0  │\n",
       "│ 25  │ 2.0  │\n",
       "│ 26  │ 1.0  │\n",
       "│ 27  │ 2.0  │\n",
       "│ 28  │ 2.0  │\n",
       "│ 29  │ 4.0  │\n",
       "│ 30  │ 6.0  │\n",
       "│ 31  │ 8.0  │\n",
       "│ 32  │ 2.0  │"
      ]
     },
     "execution_count": 25,
     "metadata": {},
     "output_type": "execute_result"
    }
   ],
   "source": [
    "@rget mtcDF"
   ]
  },
  {
   "cell_type": "code",
   "execution_count": 26,
   "metadata": {
    "collapsed": true
   },
   "outputs": [
    {
     "data": {
      "text/plain": [
       "DataFrames.DataFrame"
      ]
     },
     "execution_count": 26,
     "metadata": {},
     "output_type": "execute_result"
    }
   ],
   "source": [
    "typeof(mtcDF)"
   ]
  },
  {
   "cell_type": "code",
   "execution_count": 27,
   "metadata": {
    "collapsed": true
   },
   "outputs": [
    {
     "data": {
      "text/plain": [
       "RCall.RObject{RCall.StrSxp}\n",
       " [1] \"mpg\"  \"cyl\"  \"disp\" \"hp\"   \"drat\" \"wt\"   \"qsec\" \"vs\"   \"am\"   \"gear\"\n",
       "[11] \"carb\"\n"
      ]
     },
     "execution_count": 27,
     "metadata": {},
     "output_type": "execute_result"
    }
   ],
   "source": [
    "# Column names from the object in the R workspace\n",
    "R\"colnames(mtcDF)\""
   ]
  },
  {
   "cell_type": "code",
   "execution_count": 28,
   "metadata": {
    "collapsed": true
   },
   "outputs": [
    {
     "data": {
      "text/plain": [
       "11-element Array{Symbol,1}:\n",
       " :mpg \n",
       " :cyl \n",
       " :disp\n",
       " :hp  \n",
       " :drat\n",
       " :wt  \n",
       " :qsec\n",
       " :vs  \n",
       " :am  \n",
       " :gear\n",
       " :carb"
      ]
     },
     "execution_count": 28,
     "metadata": {},
     "output_type": "execute_result"
    }
   ],
   "source": [
    "# Column names from the RObject\n",
    "names(jro_mtcars)"
   ]
  },
  {
   "cell_type": "code",
   "execution_count": 29,
   "metadata": {
    "collapsed": true
   },
   "outputs": [
    {
     "data": {
      "text/plain": [
       "11-element Array{Symbol,1}:\n",
       " :mpg \n",
       " :cyl \n",
       " :disp\n",
       " :hp  \n",
       " :drat\n",
       " :wt  \n",
       " :qsec\n",
       " :vs  \n",
       " :am  \n",
       " :gear\n",
       " :carb"
      ]
     },
     "execution_count": 29,
     "metadata": {},
     "output_type": "execute_result"
    }
   ],
   "source": [
    "# Column names from the Julia Dataframe\n",
    "names(mtcDF)"
   ]
  },
  {
   "cell_type": "markdown",
   "metadata": {},
   "source": [
    "### 2.5 `rcopy(j_robj)` - Converts Julia RObjects as native Julia Objects"
   ]
  },
  {
   "cell_type": "code",
   "execution_count": 30,
   "metadata": {
    "collapsed": true
   },
   "outputs": [
    {
     "data": {
      "text/html": [
       "<table class=\"data-frame\"><tr><th></th><th>mpg</th><th>cyl</th><th>disp</th><th>hp</th><th>drat</th><th>wt</th><th>qsec</th><th>vs</th><th>am</th><th>gear</th><th>carb</th></tr><tr><th>1</th><td>21.0</td><td>6.0</td><td>160.0</td><td>110.0</td><td>3.9</td><td>2.62</td><td>16.46</td><td>0.0</td><td>1.0</td><td>4.0</td><td>4.0</td></tr><tr><th>2</th><td>21.0</td><td>6.0</td><td>160.0</td><td>110.0</td><td>3.9</td><td>2.875</td><td>17.02</td><td>0.0</td><td>1.0</td><td>4.0</td><td>4.0</td></tr><tr><th>3</th><td>22.8</td><td>4.0</td><td>108.0</td><td>93.0</td><td>3.85</td><td>2.32</td><td>18.61</td><td>1.0</td><td>1.0</td><td>4.0</td><td>1.0</td></tr><tr><th>4</th><td>21.4</td><td>6.0</td><td>258.0</td><td>110.0</td><td>3.08</td><td>3.215</td><td>19.44</td><td>1.0</td><td>0.0</td><td>3.0</td><td>1.0</td></tr><tr><th>5</th><td>18.7</td><td>8.0</td><td>360.0</td><td>175.0</td><td>3.15</td><td>3.44</td><td>17.02</td><td>0.0</td><td>0.0</td><td>3.0</td><td>2.0</td></tr><tr><th>6</th><td>18.1</td><td>6.0</td><td>225.0</td><td>105.0</td><td>2.76</td><td>3.46</td><td>20.22</td><td>1.0</td><td>0.0</td><td>3.0</td><td>1.0</td></tr><tr><th>7</th><td>14.3</td><td>8.0</td><td>360.0</td><td>245.0</td><td>3.21</td><td>3.57</td><td>15.84</td><td>0.0</td><td>0.0</td><td>3.0</td><td>4.0</td></tr><tr><th>8</th><td>24.4</td><td>4.0</td><td>146.7</td><td>62.0</td><td>3.69</td><td>3.19</td><td>20.0</td><td>1.0</td><td>0.0</td><td>4.0</td><td>2.0</td></tr><tr><th>9</th><td>22.8</td><td>4.0</td><td>140.8</td><td>95.0</td><td>3.92</td><td>3.15</td><td>22.9</td><td>1.0</td><td>0.0</td><td>4.0</td><td>2.0</td></tr><tr><th>10</th><td>19.2</td><td>6.0</td><td>167.6</td><td>123.0</td><td>3.92</td><td>3.44</td><td>18.3</td><td>1.0</td><td>0.0</td><td>4.0</td><td>4.0</td></tr><tr><th>11</th><td>17.8</td><td>6.0</td><td>167.6</td><td>123.0</td><td>3.92</td><td>3.44</td><td>18.9</td><td>1.0</td><td>0.0</td><td>4.0</td><td>4.0</td></tr><tr><th>12</th><td>16.4</td><td>8.0</td><td>275.8</td><td>180.0</td><td>3.07</td><td>4.07</td><td>17.4</td><td>0.0</td><td>0.0</td><td>3.0</td><td>3.0</td></tr><tr><th>13</th><td>17.3</td><td>8.0</td><td>275.8</td><td>180.0</td><td>3.07</td><td>3.73</td><td>17.6</td><td>0.0</td><td>0.0</td><td>3.0</td><td>3.0</td></tr><tr><th>14</th><td>15.2</td><td>8.0</td><td>275.8</td><td>180.0</td><td>3.07</td><td>3.78</td><td>18.0</td><td>0.0</td><td>0.0</td><td>3.0</td><td>3.0</td></tr><tr><th>15</th><td>10.4</td><td>8.0</td><td>472.0</td><td>205.0</td><td>2.93</td><td>5.25</td><td>17.98</td><td>0.0</td><td>0.0</td><td>3.0</td><td>4.0</td></tr><tr><th>16</th><td>10.4</td><td>8.0</td><td>460.0</td><td>215.0</td><td>3.0</td><td>5.424</td><td>17.82</td><td>0.0</td><td>0.0</td><td>3.0</td><td>4.0</td></tr><tr><th>17</th><td>14.7</td><td>8.0</td><td>440.0</td><td>230.0</td><td>3.23</td><td>5.345</td><td>17.42</td><td>0.0</td><td>0.0</td><td>3.0</td><td>4.0</td></tr><tr><th>18</th><td>32.4</td><td>4.0</td><td>78.7</td><td>66.0</td><td>4.08</td><td>2.2</td><td>19.47</td><td>1.0</td><td>1.0</td><td>4.0</td><td>1.0</td></tr><tr><th>19</th><td>30.4</td><td>4.0</td><td>75.7</td><td>52.0</td><td>4.93</td><td>1.615</td><td>18.52</td><td>1.0</td><td>1.0</td><td>4.0</td><td>2.0</td></tr><tr><th>20</th><td>33.9</td><td>4.0</td><td>71.1</td><td>65.0</td><td>4.22</td><td>1.835</td><td>19.9</td><td>1.0</td><td>1.0</td><td>4.0</td><td>1.0</td></tr><tr><th>21</th><td>21.5</td><td>4.0</td><td>120.1</td><td>97.0</td><td>3.7</td><td>2.465</td><td>20.01</td><td>1.0</td><td>0.0</td><td>3.0</td><td>1.0</td></tr><tr><th>22</th><td>15.5</td><td>8.0</td><td>318.0</td><td>150.0</td><td>2.76</td><td>3.52</td><td>16.87</td><td>0.0</td><td>0.0</td><td>3.0</td><td>2.0</td></tr><tr><th>23</th><td>15.2</td><td>8.0</td><td>304.0</td><td>150.0</td><td>3.15</td><td>3.435</td><td>17.3</td><td>0.0</td><td>0.0</td><td>3.0</td><td>2.0</td></tr><tr><th>24</th><td>13.3</td><td>8.0</td><td>350.0</td><td>245.0</td><td>3.73</td><td>3.84</td><td>15.41</td><td>0.0</td><td>0.0</td><td>3.0</td><td>4.0</td></tr><tr><th>25</th><td>19.2</td><td>8.0</td><td>400.0</td><td>175.0</td><td>3.08</td><td>3.845</td><td>17.05</td><td>0.0</td><td>0.0</td><td>3.0</td><td>2.0</td></tr><tr><th>26</th><td>27.3</td><td>4.0</td><td>79.0</td><td>66.0</td><td>4.08</td><td>1.935</td><td>18.9</td><td>1.0</td><td>1.0</td><td>4.0</td><td>1.0</td></tr><tr><th>27</th><td>26.0</td><td>4.0</td><td>120.3</td><td>91.0</td><td>4.43</td><td>2.14</td><td>16.7</td><td>0.0</td><td>1.0</td><td>5.0</td><td>2.0</td></tr><tr><th>28</th><td>30.4</td><td>4.0</td><td>95.1</td><td>113.0</td><td>3.77</td><td>1.513</td><td>16.9</td><td>1.0</td><td>1.0</td><td>5.0</td><td>2.0</td></tr><tr><th>29</th><td>15.8</td><td>8.0</td><td>351.0</td><td>264.0</td><td>4.22</td><td>3.17</td><td>14.5</td><td>0.0</td><td>1.0</td><td>5.0</td><td>4.0</td></tr><tr><th>30</th><td>19.7</td><td>6.0</td><td>145.0</td><td>175.0</td><td>3.62</td><td>2.77</td><td>15.5</td><td>0.0</td><td>1.0</td><td>5.0</td><td>6.0</td></tr><tr><th>&vellip;</th><td>&vellip;</td><td>&vellip;</td><td>&vellip;</td><td>&vellip;</td><td>&vellip;</td><td>&vellip;</td><td>&vellip;</td><td>&vellip;</td><td>&vellip;</td><td>&vellip;</td><td>&vellip;</td></tr></table>"
      ],
      "text/plain": [
       "32×11 DataFrames.DataFrame\n",
       "│ Row │ mpg  │ cyl │ disp  │ hp    │ drat │ wt    │ qsec  │ vs  │ am  │ gear │\n",
       "├─────┼──────┼─────┼───────┼───────┼──────┼───────┼───────┼─────┼─────┼──────┤\n",
       "│ 1   │ 21.0 │ 6.0 │ 160.0 │ 110.0 │ 3.9  │ 2.62  │ 16.46 │ 0.0 │ 1.0 │ 4.0  │\n",
       "│ 2   │ 21.0 │ 6.0 │ 160.0 │ 110.0 │ 3.9  │ 2.875 │ 17.02 │ 0.0 │ 1.0 │ 4.0  │\n",
       "│ 3   │ 22.8 │ 4.0 │ 108.0 │ 93.0  │ 3.85 │ 2.32  │ 18.61 │ 1.0 │ 1.0 │ 4.0  │\n",
       "│ 4   │ 21.4 │ 6.0 │ 258.0 │ 110.0 │ 3.08 │ 3.215 │ 19.44 │ 1.0 │ 0.0 │ 3.0  │\n",
       "│ 5   │ 18.7 │ 8.0 │ 360.0 │ 175.0 │ 3.15 │ 3.44  │ 17.02 │ 0.0 │ 0.0 │ 3.0  │\n",
       "│ 6   │ 18.1 │ 6.0 │ 225.0 │ 105.0 │ 2.76 │ 3.46  │ 20.22 │ 1.0 │ 0.0 │ 3.0  │\n",
       "│ 7   │ 14.3 │ 8.0 │ 360.0 │ 245.0 │ 3.21 │ 3.57  │ 15.84 │ 0.0 │ 0.0 │ 3.0  │\n",
       "│ 8   │ 24.4 │ 4.0 │ 146.7 │ 62.0  │ 3.69 │ 3.19  │ 20.0  │ 1.0 │ 0.0 │ 4.0  │\n",
       "│ 9   │ 22.8 │ 4.0 │ 140.8 │ 95.0  │ 3.92 │ 3.15  │ 22.9  │ 1.0 │ 0.0 │ 4.0  │\n",
       "│ 10  │ 19.2 │ 6.0 │ 167.6 │ 123.0 │ 3.92 │ 3.44  │ 18.3  │ 1.0 │ 0.0 │ 4.0  │\n",
       "│ 11  │ 17.8 │ 6.0 │ 167.6 │ 123.0 │ 3.92 │ 3.44  │ 18.9  │ 1.0 │ 0.0 │ 4.0  │\n",
       "⋮\n",
       "│ 21  │ 21.5 │ 4.0 │ 120.1 │ 97.0  │ 3.7  │ 2.465 │ 20.01 │ 1.0 │ 0.0 │ 3.0  │\n",
       "│ 22  │ 15.5 │ 8.0 │ 318.0 │ 150.0 │ 2.76 │ 3.52  │ 16.87 │ 0.0 │ 0.0 │ 3.0  │\n",
       "│ 23  │ 15.2 │ 8.0 │ 304.0 │ 150.0 │ 3.15 │ 3.435 │ 17.3  │ 0.0 │ 0.0 │ 3.0  │\n",
       "│ 24  │ 13.3 │ 8.0 │ 350.0 │ 245.0 │ 3.73 │ 3.84  │ 15.41 │ 0.0 │ 0.0 │ 3.0  │\n",
       "│ 25  │ 19.2 │ 8.0 │ 400.0 │ 175.0 │ 3.08 │ 3.845 │ 17.05 │ 0.0 │ 0.0 │ 3.0  │\n",
       "│ 26  │ 27.3 │ 4.0 │ 79.0  │ 66.0  │ 4.08 │ 1.935 │ 18.9  │ 1.0 │ 1.0 │ 4.0  │\n",
       "│ 27  │ 26.0 │ 4.0 │ 120.3 │ 91.0  │ 4.43 │ 2.14  │ 16.7  │ 0.0 │ 1.0 │ 5.0  │\n",
       "│ 28  │ 30.4 │ 4.0 │ 95.1  │ 113.0 │ 3.77 │ 1.513 │ 16.9  │ 1.0 │ 1.0 │ 5.0  │\n",
       "│ 29  │ 15.8 │ 8.0 │ 351.0 │ 264.0 │ 4.22 │ 3.17  │ 14.5  │ 0.0 │ 1.0 │ 5.0  │\n",
       "│ 30  │ 19.7 │ 6.0 │ 145.0 │ 175.0 │ 3.62 │ 2.77  │ 15.5  │ 0.0 │ 1.0 │ 5.0  │\n",
       "│ 31  │ 15.0 │ 8.0 │ 301.0 │ 335.0 │ 3.54 │ 3.57  │ 14.6  │ 0.0 │ 1.0 │ 5.0  │\n",
       "│ 32  │ 21.4 │ 4.0 │ 121.0 │ 109.0 │ 4.11 │ 2.78  │ 18.6  │ 1.0 │ 1.0 │ 4.0  │\n",
       "\n",
       "│ Row │ carb │\n",
       "├─────┼──────┤\n",
       "│ 1   │ 4.0  │\n",
       "│ 2   │ 4.0  │\n",
       "│ 3   │ 1.0  │\n",
       "│ 4   │ 1.0  │\n",
       "│ 5   │ 2.0  │\n",
       "│ 6   │ 1.0  │\n",
       "│ 7   │ 4.0  │\n",
       "│ 8   │ 2.0  │\n",
       "│ 9   │ 2.0  │\n",
       "│ 10  │ 4.0  │\n",
       "│ 11  │ 4.0  │\n",
       "⋮\n",
       "│ 21  │ 1.0  │\n",
       "│ 22  │ 2.0  │\n",
       "│ 23  │ 2.0  │\n",
       "│ 24  │ 4.0  │\n",
       "│ 25  │ 2.0  │\n",
       "│ 26  │ 1.0  │\n",
       "│ 27  │ 2.0  │\n",
       "│ 28  │ 2.0  │\n",
       "│ 29  │ 4.0  │\n",
       "│ 30  │ 6.0  │\n",
       "│ 31  │ 8.0  │\n",
       "│ 32  │ 2.0  │"
      ]
     },
     "execution_count": 30,
     "metadata": {},
     "output_type": "execute_result"
    }
   ],
   "source": [
    "j_mtcars = rcopy(jro_mtcars)"
   ]
  },
  {
   "cell_type": "code",
   "execution_count": null,
   "metadata": {
    "collapsed": true
   },
   "outputs": [],
   "source": [
    "typeof(j_mtcars)"
   ]
  },
  {
   "cell_type": "markdown",
   "metadata": {},
   "source": [
    "### 2.6 `rcall(:function, j_robj)` Construct a function call on an RObject"
   ]
  },
  {
   "cell_type": "code",
   "execution_count": 36,
   "metadata": {
    "collapsed": true
   },
   "outputs": [
    {
     "data": {
      "text/plain": [
       "RCall.RObject{RCall.IntSxp}\n",
       "[1] 32\n"
      ]
     },
     "execution_count": 36,
     "metadata": {},
     "output_type": "execute_result"
    }
   ],
   "source": [
    "rcall(:nrow, jro_mtcars)"
   ]
  }
 ],
 "metadata": {
  "anaconda-cloud": {},
  "kernelspec": {
   "display_name": "Julia 0.5.0",
   "language": "julia",
   "name": "julia-0.5"
  },
  "language_info": {
   "file_extension": ".jl",
   "mimetype": "application/julia",
   "name": "julia",
   "version": "0.5.0"
  }
 },
 "nbformat": 4,
 "nbformat_minor": 0
}
